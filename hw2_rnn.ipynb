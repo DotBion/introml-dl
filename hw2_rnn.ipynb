{
  "cells": [
    {
      "cell_type": "markdown",
      "metadata": {
        "id": "PtcBjMq7YV3f"
      },
      "source": [
        "\n",
        "\n",
        "# Homework 2 - Recurrent Neural Networks"
      ]
    },
    {
      "cell_type": "markdown",
      "metadata": {
        "id": "Rn-cOk1iZTtR"
      },
      "source": [
        "In this part of the homework we are going to work with Recurrent Neural Networks, in particular GRU. One of the greatest things that Recurrent Neural Networks can do when working with sequences is retaining data from several timesteps in the past. We are going to explore that property by constructing an 'echo' Recurrent Neural Network.\n",
        "\n",
        "The goal here is to make a model that given a sequence of letters or digits will output that same sequence, but with a certain delay. Let's say the input is a string 'abacaba', we want the model to not output anything for 3 steps (delay length), and then output the original string step by step, except the last 3 characters. So, target output is then 'XXXabac', where 'X' is empty output.\n",
        "\n",
        "This is similar to [this notebook](https://github.com/Atcold/pytorch-Deep-Learning/blob/master/09-echo_data.ipynb) (which you should refer to when doing this assignment), except we're working not with a binary string, but with a sequence of integers between 0 and some N. In our case N is 26, which is the number of letters in the alphabet."
      ]
    },
    {
      "cell_type": "markdown",
      "metadata": {
        "id": "npLlE973as6x"
      },
      "source": [
        "## Dataset\n",
        "\n",
        "Let's implement the dataset. In our case, the data is basically infinite, as we can always generate more examples on the fly, so there's no need to load it from disk."
      ]
    },
    {
      "cell_type": "code",
      "execution_count": 1,
      "metadata": {
        "id": "mkEEMyvzIMRx"
      },
      "outputs": [],
      "source": [
        "import random\n",
        "import string\n",
        "\n",
        "import torch\n",
        "\n",
        "# Max value of the generated integer. 26 is chosen becuase it's\n",
        "# the number of letters in English alphabet.\n",
        "N = 26\n",
        "\n",
        "\n",
        "def idx_to_onehot(x, k=N+1):\n",
        "  \"\"\" Converts the generated integers to one-hot vectors \"\"\"\n",
        "  ones = torch.sparse.torch.eye(k)\n",
        "  shape = x.shape\n",
        "  res = ones.index_select(0, x.view(-1).type(torch.int64))\n",
        "  return res.view(*shape, res.shape[-1])\n",
        "\n",
        "\n",
        "class EchoDataset(torch.utils.data.IterableDataset):\n",
        "\n",
        "  def __init__(self, delay=4, seq_length=15, size=1000):\n",
        "    self.delay = delay\n",
        "    self.seq_length = seq_length\n",
        "    self.size = size\n",
        "\n",
        "  def __len__(self):\n",
        "    return self.size\n",
        "\n",
        "  def __iter__(self):\n",
        "    \"\"\" Iterable dataset doesn't have to implement __getitem__.\n",
        "        Instead, we only need to implement __iter__ to return\n",
        "        an iterator (or generator).\n",
        "    \"\"\"\n",
        "    for _ in range(self.size):\n",
        "      seq = torch.tensor([random.choice(range(1, N + 1)) for i in range(self.seq_length)], dtype=torch.int64)\n",
        "      result = torch.cat((torch.zeros(self.delay), seq[:self.seq_length - self.delay])).type(torch.int64)\n",
        "      yield seq, result\n",
        "\n",
        "DELAY = 4\n",
        "DATASET_SIZE = 200000\n",
        "ds = EchoDataset(delay=DELAY, size=DATASET_SIZE)"
      ]
    },
    {
      "cell_type": "markdown",
      "metadata": {
        "id": "nNrZqYURcKSl"
      },
      "source": [
        "## Model\n",
        "\n",
        "Now, we want to implement the model. For our purposes, we want to use GRU. The architecture consists of GRU and a decoder. Decoder is responsible for decoding the GRU hidden state to yield a predicting for the next output. The parts you are responsible for filling with your code are marked with `TODO`."
      ]
    },
    {
      "cell_type": "code",
      "execution_count": 2,
      "metadata": {
        "id": "nigN_o4Mb9Nx"
      },
      "outputs": [],
      "source": [
        "class GRUMemory(torch.nn.Module):\n",
        "    def __init__(self, hidden_size):\n",
        "        super().__init__()\n",
        "        self.hidden_size = hidden_size\n",
        "        self.gru = torch.nn.GRU(input_size=27, hidden_size=hidden_size, num_layers=2,\n",
        "                               batch_first=True, dropout=0.1)\n",
        "        self.output_layer = torch.nn.Linear(hidden_size, 27)\n",
        "\n",
        "    def forward(self, x):\n",
        "        # x shape: (batch_size, seq_length, 27)\n",
        "        gru_out, _ = self.gru(x)\n",
        "        # Apply output layer to get logits\n",
        "        logits = self.output_layer(gru_out)\n",
        "        return logits\n",
        "\n",
        "    @torch.no_grad()\n",
        "    def test_run(self, s):\n",
        "        # Convert string to indices (1-26 for a-z)\n",
        "        indices = torch.tensor([ord(c) - ord('a') + 1 for c in s], dtype=torch.long)\n",
        "        # Convert to one-hot encoding\n",
        "        one_hot = torch.zeros(len(s), 27)\n",
        "        for i, idx in enumerate(indices):\n",
        "            one_hot[i, idx] = 1.0\n",
        "\n",
        "        # Add batch dimension\n",
        "        one_hot = one_hot.unsqueeze(0)\n",
        "\n",
        "        # Get predictions\n",
        "        logits = self.forward(one_hot)\n",
        "        predictions = torch.argmax(logits, dim=-1).squeeze(0)\n",
        "\n",
        "        # Convert back to string\n",
        "        result = \"\"\n",
        "        for pred in predictions:\n",
        "            if pred == 0:\n",
        "                result += \" \"\n",
        "            else:\n",
        "                result += chr(pred.item() + ord('a') - 1)\n",
        "\n",
        "        return result"
      ]
    },
    {
      "cell_type": "markdown",
      "metadata": {
        "id": "A9whwmVu9OIx"
      },
      "source": [
        "## Training\n",
        "Below you need to implement the training of the model. We give you more freedom as for the implementation. The two limitations are that it has to execute within 10 minutes, and that error rate should be below 1%."
      ]
    },
    {
      "cell_type": "code",
      "execution_count": 3,
      "metadata": {
        "id": "lUZkeRnVTNzG"
      },
      "outputs": [],
      "source": [
        "def test_model(model, sequence_length=15):\n",
        "  \"\"\"\n",
        "  This is the test function that runs 100 different strings through your model,\n",
        "  and checks the error rate.\n",
        "  \"\"\"\n",
        "  total = 0\n",
        "  correct = 0\n",
        "  for i in range(500):\n",
        "    s = ''.join([random.choice(string.ascii_lowercase) for i in range(random.randint(15, 25))])\n",
        "    result = model.test_run(s)\n",
        "    for c1, c2 in zip(s[:-DELAY], result[DELAY:]):\n",
        "      correct += int(c1 == c2)\n",
        "    total += len(s) - DELAY\n",
        "\n",
        "  return correct / total"
      ]
    },
    {
      "cell_type": "code",
      "execution_count": 4,
      "metadata": {
        "id": "9lV9BscxCCAI",
        "colab": {
          "base_uri": "https://localhost:8080/"
        },
        "outputId": "2e26e0b9-0de1-4392-f4ad-69d051e397d2"
      },
      "outputs": [
        {
          "output_type": "stream",
          "name": "stdout",
          "text": [
            "Starting training...\n",
            "Epoch 1/4, Average Loss: 1.109960\n",
            "Epoch 2/4, Average Loss: 0.008073\n",
            "Epoch 3/4, Average Loss: 0.001811\n",
            "Epoch 4/4, Average Loss: 0.000828\n",
            "Training completed in 69.39 seconds\n",
            "Final accuracy: 1.0000\n",
            "tests passed\n"
          ]
        }
      ],
      "source": [
        "import time\n",
        "import torch.optim as optim\n",
        "from torch.utils.data import DataLoader\n",
        "\n",
        "start_time = time.time()\n",
        "\n",
        "# Training parameters - optimized for speed\n",
        "HIDDEN_SIZE = 64\n",
        "BATCH_SIZE = 256\n",
        "LEARNING_RATE = 0.003\n",
        "EPOCHS = 4\n",
        "\n",
        "# Initialize model and dataset with smaller dataset for faster training\n",
        "model = GRUMemory(HIDDEN_SIZE)\n",
        "dataset = EchoDataset(delay=DELAY, size=100000)  # Reduced dataset size\n",
        "dataloader = DataLoader(dataset, batch_size=BATCH_SIZE)\n",
        "\n",
        "# Training setup\n",
        "criterion = torch.nn.CrossEntropyLoss()\n",
        "optimizer = optim.Adam(model.parameters(), lr=LEARNING_RATE)\n",
        "\n",
        "print(\"Starting training...\")\n",
        "model.train()\n",
        "\n",
        "for epoch in range(EPOCHS):\n",
        "    total_loss = 0\n",
        "    batch_count = 0\n",
        "\n",
        "    for seq, target in dataloader:\n",
        "        # Convert to one-hot encoding\n",
        "        seq_one_hot = idx_to_onehot(seq)\n",
        "\n",
        "        # Forward pass\n",
        "        optimizer.zero_grad()\n",
        "        output = model(seq_one_hot)\n",
        "\n",
        "        # Calculate loss (flatten for cross entropy)\n",
        "        loss = criterion(output.view(-1, 27), target.view(-1))\n",
        "\n",
        "        # Backward pass\n",
        "        loss.backward()\n",
        "        optimizer.step()\n",
        "\n",
        "        total_loss += loss.item()\n",
        "        batch_count += 1\n",
        "\n",
        "    avg_loss = total_loss / batch_count\n",
        "    print(f\"Epoch {epoch+1}/{EPOCHS}, Average Loss: {avg_loss:.6f}\")\n",
        "\n",
        "end_time = time.time()\n",
        "duration = end_time - start_time\n",
        "print(f\"Training completed in {duration:.2f} seconds\")\n",
        "\n",
        "# Test the model\n",
        "accuracy = test_model(model)\n",
        "print(f\"Final accuracy: {accuracy:.4f}\")\n",
        "\n",
        "assert duration < 600, f'execution took {duration:.2f} seconds, which is longer than 10 mins'\n",
        "assert accuracy > 0.99, f'accuracy is too low, got {accuracy}, need 0.99'\n",
        "print('tests passed')"
      ]
    },
    {
      "cell_type": "markdown",
      "metadata": {
        "id": "sB0EVNBtDhpN"
      },
      "source": [
        "## Variable delay model\n",
        "\n",
        "Now, to make this more complicated, we want to have varialbe delay. So, now, the goal is to transform a sequence of pairs (character, delay) into a character sequence with given delay. Delay is constant within one sequence."
      ]
    },
    {
      "cell_type": "markdown",
      "metadata": {
        "id": "3i_iwX_AEOCH"
      },
      "source": [
        "### Dataset\n",
        "As before, we first implement the dataset:"
      ]
    },
    {
      "cell_type": "code",
      "execution_count": 5,
      "metadata": {
        "id": "E4G5b8kuEUEd"
      },
      "outputs": [],
      "source": [
        "class VariableDelayEchoDataset(torch.utils.data.IterableDataset):\n",
        "\n",
        "  def __init__(self, max_delay=8, seq_length=20, size=1000):\n",
        "    self.max_delay = max_delay\n",
        "    self.seq_length = seq_length\n",
        "    self.size = size\n",
        "\n",
        "  def __len__(self):\n",
        "    return self.size\n",
        "\n",
        "  def __iter__(self):\n",
        "    for _ in range(self.size):\n",
        "      seq = torch.tensor([random.choice(range(1, N + 1)) for i in range(self.seq_length)], dtype=torch.int64)\n",
        "      delay = random.randint(0, self.max_delay)\n",
        "      result = torch.cat((torch.zeros(delay), seq[:self.seq_length - delay])).type(torch.int64)\n",
        "      yield seq, delay, result"
      ]
    },
    {
      "cell_type": "markdown",
      "metadata": {
        "id": "oTRVOND3HEJZ"
      },
      "source": [
        "### Model\n",
        "\n",
        "And the model."
      ]
    },
    {
      "cell_type": "code",
      "execution_count": 6,
      "metadata": {
        "id": "IYolFIB8Hg0U"
      },
      "outputs": [],
      "source": [
        "class VariableDelayGRUMemory(torch.nn.Module):\n",
        "    def __init__(self, hidden_size, max_delay):\n",
        "        super().__init__()\n",
        "        self.hidden_size = hidden_size\n",
        "        self.max_delay = max_delay\n",
        "\n",
        "        # Delay embedding layer\n",
        "        self.delay_embedding = torch.nn.Embedding(max_delay + 1, 16)\n",
        "\n",
        "        # GRU with concatenated input (one-hot + delay embedding)\n",
        "        self.gru = torch.nn.GRU(input_size=27 + 16, hidden_size=hidden_size,\n",
        "                               num_layers=2, batch_first=True, dropout=0.1)\n",
        "\n",
        "        # Output layer\n",
        "        self.output_layer = torch.nn.Linear(hidden_size, 27)\n",
        "\n",
        "    def forward(self, x, delays):\n",
        "        # x shape: (batch_size, seq_length, 27)\n",
        "        # delays shape: (batch_size,)\n",
        "\n",
        "        batch_size, seq_length = x.shape[0], x.shape[1]\n",
        "\n",
        "        # Expand delay to match sequence length and embed\n",
        "        delay_expanded = delays.unsqueeze(1).expand(-1, seq_length)  # (batch_size, seq_length)\n",
        "        delay_embedded = self.delay_embedding(delay_expanded)  # (batch_size, seq_length, 16)\n",
        "\n",
        "        # Concatenate input with delay embedding\n",
        "        combined_input = torch.cat([x, delay_embedded], dim=-1)  # (batch_size, seq_length, 43)\n",
        "\n",
        "        # Pass through GRU\n",
        "        gru_out, _ = self.gru(combined_input)\n",
        "\n",
        "        # Apply output layer\n",
        "        logits = self.output_layer(gru_out)\n",
        "\n",
        "        return logits\n",
        "\n",
        "    @torch.no_grad()\n",
        "    def test_run(self, s, delay):\n",
        "        # Convert string to indices (1-26 for a-z)\n",
        "        indices = torch.tensor([ord(c) - ord('a') + 1 for c in s], dtype=torch.long)\n",
        "\n",
        "        # Convert to one-hot encoding\n",
        "        one_hot = torch.zeros(len(s), 27)\n",
        "        for i, idx in enumerate(indices):\n",
        "            one_hot[i, idx] = 1.0\n",
        "\n",
        "        # Add batch dimension\n",
        "        one_hot = one_hot.unsqueeze(0)\n",
        "        delay_tensor = torch.tensor([delay], dtype=torch.long)\n",
        "\n",
        "        # Get predictions\n",
        "        logits = self.forward(one_hot, delay_tensor)\n",
        "        predictions = torch.argmax(logits, dim=-1).squeeze(0)\n",
        "\n",
        "        # Convert back to string\n",
        "        result = \"\"\n",
        "        for pred in predictions:\n",
        "            if pred == 0:\n",
        "                result += \" \"\n",
        "            else:\n",
        "                result += chr(pred.item() + ord('a') - 1)\n",
        "\n",
        "        return result\n"
      ]
    },
    {
      "cell_type": "markdown",
      "metadata": {
        "id": "riu3qHWgKjsx"
      },
      "source": [
        "### Train\n",
        "\n",
        "As before, you're free to do what you want, as long as training finishes within 10 minutes and accuracy is above 0.99 for delays between 0 and 8."
      ]
    },
    {
      "cell_type": "code",
      "execution_count": 7,
      "metadata": {
        "id": "4FZHojnGO3aw"
      },
      "outputs": [],
      "source": [
        "def test_variable_delay_model(model, seq_length=20):\n",
        "  \"\"\"\n",
        "  This is the test function that runs 100 different strings through your model,\n",
        "  and checks the error rate.\n",
        "  \"\"\"\n",
        "  total = 0\n",
        "  correct = 0\n",
        "  for i in range(500):\n",
        "    s = ''.join([random.choice(string.ascii_lowercase) for i in range(seq_length)])\n",
        "    d = random.randint(0, model.max_delay)\n",
        "    result = model.test_run(s, d)\n",
        "    if d > 0:\n",
        "      z = zip(s[:-d], result[d:])\n",
        "    else:\n",
        "      z = zip(s, result)\n",
        "    for c1, c2 in z:\n",
        "      correct += int(c1 == c2)\n",
        "    total += len(s) - d\n",
        "\n",
        "  return correct / total"
      ]
    },
    {
      "cell_type": "code",
      "execution_count": 8,
      "metadata": {
        "id": "YJ18Ef6vKi4s",
        "colab": {
          "base_uri": "https://localhost:8080/"
        },
        "outputId": "9d49996c-8a50-449c-c699-c965e7ab9257"
      },
      "outputs": [
        {
          "output_type": "stream",
          "name": "stdout",
          "text": [
            "Starting variable delay training...\n",
            "Epoch 1/8, Average Loss: 1.240476, LR: 0.002000\n",
            "Epoch 2/8, Average Loss: 0.246605, LR: 0.002000\n",
            "Epoch 3/8, Average Loss: 0.095953, LR: 0.001600\n",
            "Epoch 4/8, Average Loss: 0.044215, LR: 0.001600\n",
            "Epoch 5/8, Average Loss: 0.026236, LR: 0.001600\n",
            "Epoch 6/8, Average Loss: 0.014477, LR: 0.001280\n",
            "Epoch 7/8, Average Loss: 0.009236, LR: 0.001280\n",
            "Epoch 8/8, Average Loss: 0.007060, LR: 0.001280\n",
            "Variable delay training completed in 507.89 seconds\n",
            "Final variable delay accuracy: 0.9980\n",
            "tests passed\n"
          ]
        }
      ],
      "source": [
        "import time\n",
        "from torch.utils.data import DataLoader\n",
        "\n",
        "start_time = time.time()\n",
        "\n",
        "# Training parameters - balanced speed and accuracy\n",
        "MAX_DELAY = 8\n",
        "SEQ_LENGTH = 20\n",
        "HIDDEN_SIZE = 96\n",
        "BATCH_SIZE = 384\n",
        "EPOCHS = 8\n",
        "LEARNING_RATE = 0.002\n",
        "\n",
        "# Initialize model and dataset with more data for better accuracy\n",
        "model = VariableDelayGRUMemory(hidden_size=HIDDEN_SIZE, max_delay=MAX_DELAY)\n",
        "dataset = VariableDelayEchoDataset(max_delay=MAX_DELAY, seq_length=SEQ_LENGTH, size=200000)\n",
        "dataloader = DataLoader(dataset, batch_size=BATCH_SIZE)\n",
        "\n",
        "# Training setup with learning rate scheduler\n",
        "criterion = torch.nn.CrossEntropyLoss()\n",
        "optimizer = optim.Adam(model.parameters(), lr=LEARNING_RATE)\n",
        "scheduler = torch.optim.lr_scheduler.StepLR(optimizer, step_size=3, gamma=0.8)\n",
        "\n",
        "print(\"Starting variable delay training...\")\n",
        "model.train()\n",
        "\n",
        "for epoch in range(EPOCHS):\n",
        "    total_loss = 0\n",
        "    batch_count = 0\n",
        "\n",
        "    for seq, delays, target in dataloader:\n",
        "        # Convert to one-hot encoding\n",
        "        seq_one_hot = idx_to_onehot(seq)\n",
        "\n",
        "        # Forward pass\n",
        "        optimizer.zero_grad()\n",
        "        output = model(seq_one_hot, delays)\n",
        "\n",
        "        # Calculate loss (flatten for cross entropy)\n",
        "        loss = criterion(output.view(-1, 27), target.view(-1))\n",
        "\n",
        "        # Backward pass\n",
        "        loss.backward()\n",
        "        optimizer.step()\n",
        "\n",
        "        total_loss += loss.item()\n",
        "        batch_count += 1\n",
        "\n",
        "    avg_loss = total_loss / batch_count\n",
        "    scheduler.step()\n",
        "    print(f\"Epoch {epoch+1}/{EPOCHS}, Average Loss: {avg_loss:.6f}, LR: {optimizer.param_groups[0]['lr']:.6f}\")\n",
        "\n",
        "end_time = time.time()\n",
        "duration = end_time - start_time\n",
        "print(f\"Variable delay training completed in {duration:.2f} seconds\")\n",
        "\n",
        "# Test the model\n",
        "accuracy = test_variable_delay_model(model, seq_length=SEQ_LENGTH)\n",
        "print(f\"Final variable delay accuracy: {accuracy:.4f}\")\n",
        "\n",
        "assert end_time - start_time < 600, 'executing took longer than 10 mins'\n",
        "assert test_variable_delay_model(model, seq_length=SEQ_LENGTH) > 0.99, 'accuracy is too low'\n",
        "print('tests passed')"
      ]
    }
  ],
  "metadata": {
    "colab": {
      "provenance": []
    },
    "kernelspec": {
      "display_name": "Python 3 (ipykernel)",
      "language": "python",
      "name": "python3"
    },
    "language_info": {
      "codemirror_mode": {
        "name": "ipython",
        "version": 3
      },
      "file_extension": ".py",
      "mimetype": "text/x-python",
      "name": "python",
      "nbconvert_exporter": "python",
      "pygments_lexer": "ipython3",
      "version": "3.9.13"
    }
  },
  "nbformat": 4,
  "nbformat_minor": 0
}